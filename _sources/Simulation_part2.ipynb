{
 "cells": [
  {
   "cell_type": "markdown",
   "metadata": {},
   "source": [
    "# Best Athlete of Event - Time Complexity"
   ]
  },
  {
   "cell_type": "code",
   "execution_count": 1,
   "metadata": {},
   "outputs": [],
   "source": [
    "from myfunc import *\n",
    "from myclasses import *\n",
    "from mysimfunc import *\n",
    "import itertools\n",
    "from pymongo import MongoClient\n",
    "import sqlalchemy as sa"
   ]
  },
  {
   "cell_type": "code",
   "execution_count": 2,
   "metadata": {},
   "outputs": [
    {
     "name": "stdout",
     "output_type": "stream",
     "text": [
      "\u001b[34m==>\u001b[0m \u001b[1mSuccessfully started `mongodb-community` (label: homebrew.mxcl.mongodb-commu\u001b[0m\n"
     ]
    }
   ],
   "source": [
    "!brew services start mongodb-community@5.0"
   ]
  },
  {
   "cell_type": "code",
   "execution_count": 3,
   "metadata": {},
   "outputs": [],
   "source": [
    "client = MongoClient()\n",
    "client = MongoClient('mongodb://localhost:27017/')\n",
    "mydb = client['swimmerData']\n",
    "mycol = mydb.get_collection('performance')\n",
    "conf = connectDatabase('configPostgresSQL.json')\n",
    "conn_str = 'postgresql://%s:%s@localhost:5432/%s'%(conf[\"user\"], conf[\"passw\"],conf[\"database\"])\n",
    "engine = sa.create_engine(conn_str)\n",
    "inspector = sa.inspect(engine)"
   ]
  },
  {
   "cell_type": "code",
   "execution_count": 4,
   "metadata": {},
   "outputs": [],
   "source": [
    "df_sql_male = pd.read_sql_query('SELECT \"id\",\"name\" FROM \"swimmerData\" WHERE time=\\'current\\' AND sex=\\'m\\'',engine)\n",
    "male_athlete_ids = list(df_sql_male.itertuples(index=False,name=None))"
   ]
  },
  {
   "cell_type": "markdown",
   "metadata": {},
   "source": [
    "## Time Complexity\n",
    "\n",
    "In order to answer the question which athlete places first most often, each possible combination has to be iterated. This leads to the topic of time complexity.\n",
    "\n",
    "To assess an algorithms efficiency the Big Oh notation **O()** is commonly used. It describes the growth of an algorithm in a worst case scenario and is independent from the machine or implementation. A lower order of growth shall be favored. For example one for loop with one operation has the notation O(n), because the constant operation will be performed n times and the n is the dominant term.\n",
    "\n",
    "Not concidering the creation of athlete objects, the simulation has three for loops with two loops nested in an outer loop.\n",
    "This would lead to O(n) for the outer loop and O(n) for each inner loop.\n",
    "\n",
    "According to the law of addition sequantial statements are added. For the two inner loops this means $O(n) + O(n) = O(2n)$ because both loops are dominated by n iterations. However for Big Oh notation the constant *2* can be dropped, which gives $O(n)$ for the inner loops *swimrace and award_ceremony*.<br>\n",
    "For nested statements the law of multiplication has to be applied. Thus the outer loop gives the total algorithm's time complexy $ O(m) * O(n) = O(m*n) $\n",
    "\n",
    "For the outer loop the nation *m* is used, because it is know that the ranges have different length. For ranges of same length the notation would be $O(n^2)$\n",
    "\n",
    "```\n",
    "for i in range(10000):\n",
    "        award_ceremony(swim_race(race_participants,DictAthleteObjects),DictAthleteObjects,injured)\n",
    "```\n",
    "\n",
    "1)      i in range (10000):\n",
    "2)              swimrace: i in range (8)\n",
    "3)              award_ceremony: i in range (8)\n",
    "\n",
    "\n",
    "To simulate all possible combinations an additional outer for-loop has to be added. Therefore *k* is added because it is known that length will be different than 10000.\n",
    "\n",
    "$ O(n)*O(m)*O(k) = O(n*m*k) $\n",
    "\n",
    "This Big O notation reveals that the algorithm is not linear but also not polynominal or exponential.\n",
    "\n",
    "Because we know that swimrace and award_ceremony have the length of 8 and the simulation range is 10000, it is possible to say that those loops have $ 2x8x10000 = 160000 $ constant iterations for $ k $. Therefore the algorithm's behaviour in terms of order of growth is assumed being close to a linear. Thus the range $ k $ for the outer loop leads to unknown iterations over all possible combinations, which is a main issue.\n",
    "\n",
    "\n",
    "## Iterating possible combinations\n",
    "\n",
    "Below print statement shows the amount of iterations which are possible. Those are leading to a long runtime when iterating with iteration.combinations(). At this point another approach has to be found to simulate all possible combinations.\n",
    "\n",
    "1) A tournament with several races and qualification phase shall be simulated to get a gold winner instead of first place for every race.<br>This includes another random factor to generate the participants in qualification phases.\n",
    "2) Smarter calculation for equal results. For example, comparing the mean of normal distributions, when those are validly assumed. Or single probabilities on athlete pairs.\n",
    "3) Using multiprocessing modules or other technical approaches for faster calculation (e.g. reducing the time complexity or working with other languages than Python).\n",
    "4) Finding an event type with less athletes to verify that the simulation approach is working on smaller iterables.\n",
    "\n",
    "**No 1** is a valid approach with additional randomness in the form of not knowing who is in the qualification group. This would lead to a small redesign of the simulation.\n",
    "\n",
    "**No 2** and **No 3** might be valid approachs. Those could be discussed with computer scientist and / or mathematicians in a real business case.\n",
    "\n",
    "The single probabilities approach was actually programmed and assessed, but it is not working for 8 athletes racing simultaneously. Instead single probabilites could be calculated to get the probability of winning consecutive races by one by one. I actually seeked guidance on Math StackExchange and the User Greg Martin answered that for simultaneous races not enough information is provided. [Link to my Question on Math StackExchange.](https://math.stackexchange.com/questions/4518903/allowed-to-multiply-probabilities-that-way-single-probabilities-for-a-simulta)\n",
    "\n",
    "**No 4** will be applied in the code below. From Data Exploration a few unfavored event types where examind. As result the 200m Backstroke event for male athletes will be used for simulation. It seems to be so unpopular for the Top 100 male athletes that it \"only\" provides 495 combinations for 12 athletes. Code and Results are in the chapter *Best Athlete of Event - Simulation*.\n",
    "\n"
   ]
  },
  {
   "cell_type": "code",
   "execution_count": 6,
   "metadata": {},
   "outputs": [
    {
     "name": "stdout",
     "output_type": "stream",
     "text": [
      "For 100m Freestyle on 50m courses there are 41 male athletes.\n",
      "For races between 8 athletes this gives 95548245.0 possible combinations.\n"
     ]
    }
   ],
   "source": [
    "myDict = generate_objects(male_athlete_ids,mycol,'100m Freestyle','50m',injured=False)\n",
    "print('For 100m Freestyle on 50m courses there are %s male athletes.\\nFor races between 8 athletes this gives %s possible combinations.'%(len(myDict.keys()),count_combinations_without_replacement(len(myDict.keys()),8)))"
   ]
  },
  {
   "cell_type": "code",
   "execution_count": 7,
   "metadata": {},
   "outputs": [
    {
     "name": "stdout",
     "output_type": "stream",
     "text": [
      "For 400m Freestyle on 50m courses there are 12 male athletes.\n",
      "For races between 8 athletes this gives 495.0 possible combinations.\n"
     ]
    }
   ],
   "source": [
    "myDict = generate_objects(male_athlete_ids,mycol,'200m Backstroke','50m',injured=False)\n",
    "print('For 400m Freestyle on 50m courses there are %s male athletes.\\nFor races between 8 athletes this gives %s possible combinations.'%(len(myDict.keys()),count_combinations_without_replacement(len(myDict.keys()),8)))"
   ]
  },
  {
   "cell_type": "code",
   "execution_count": 8,
   "metadata": {},
   "outputs": [
    {
     "name": "stdout",
     "output_type": "stream",
     "text": [
      "Stopping `mongodb-community`... (might take a while)\n",
      "\u001b[34m==>\u001b[0m \u001b[1mSuccessfully stopped `mongodb-community` (label: homebrew.mxcl.mongodb-commu\u001b[0m\n"
     ]
    }
   ],
   "source": [
    "!brew services stop mongodb-community@5.0"
   ]
  }
 ],
 "metadata": {
  "kernelspec": {
   "display_name": "Python 3.9.12 ('condatascience')",
   "language": "python",
   "name": "python3"
  },
  "language_info": {
   "codemirror_mode": {
    "name": "ipython",
    "version": 3
   },
   "file_extension": ".py",
   "mimetype": "text/x-python",
   "name": "python",
   "nbconvert_exporter": "python",
   "pygments_lexer": "ipython3",
   "version": "3.9.12"
  },
  "orig_nbformat": 4,
  "vscode": {
   "interpreter": {
    "hash": "fd0a90840973ec53c960faac2ec5a80b0cd969d8e1e064cbc11596d09821ee2d"
   }
  }
 },
 "nbformat": 4,
 "nbformat_minor": 2
}
