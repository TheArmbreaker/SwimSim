{
 "cells": [
  {
   "cell_type": "markdown",
   "metadata": {},
   "source": [
    "# My Simulation Functions\n",
    "\n",
    "This notebook supports that content of the mysimfunc.py File can be shown in this Jupyter Book. The content is introduced in the Chapter Introduction to the Simulation."
   ]
  },
  {
   "cell_type": "code",
   "execution_count": null,
   "metadata": {},
   "outputs": [],
   "source": [
    "from myclasses import *\n",
    "\n",
    "'''\n",
    "This code is not in myfunc.py because the functions below are too unique and of no use for Data Exploration.\n",
    "'''\n",
    "\n",
    "def generate_objects(myList,collection,event,course,injured=False):\n",
    "    '''\n",
    "    takes myList with list of ids (as strings), collection as reference to mongoDB collection, event as string, course as string\n",
    "    injured is bool to decide the kind of objected that is wanted.\n",
    "    returns a dictionary of objects with athlete id as key and object as \"value\".\n",
    "\n",
    "    The ValueErrer exception captures objects where min and max are equal. Thus it would be a degenerate distribution (Einpunktverteilung).\n",
    "    The IndexError exception captures every objects that does not provide data for the requested event and course.\n",
    "    '''\n",
    "    DictAthleteObjects = {}\n",
    "    for i in myList:\n",
    "        try:\n",
    "            if injured:\n",
    "                DictAthleteObjects[i[0]] = imperfect_athlete(i,collection,event,course)\n",
    "            else:\n",
    "                DictAthleteObjects[i[0]] = athlete(i,collection,event,course)\n",
    "        except ValueError:\n",
    "            pass\n",
    "        except IndexError:\n",
    "            pass\n",
    "    return DictAthleteObjects\n",
    "    \n",
    "def get_randomSample_participants(myList):\n",
    "    '''\n",
    "    takes a list of athlete ids (any length)\n",
    "    returns a list of eight athlete ids\n",
    "    '''\n",
    "    outList = []\n",
    "    while len(outList) < 8:\n",
    "        rand = np.random.randint(0,len(myList)-1)\n",
    "        outList.append(myList[rand]) if myList[rand] not in outList else None\n",
    "    return outList\n",
    "\n",
    "def swim_race(myList,ref_Dict):\n",
    "    '''\n",
    "    takes a list of 8 swimmers and a dictionary with objects\n",
    "    returns a list of tuples with athlete id and time\n",
    "\n",
    "    function calls the swim method of each provided object and stores the result with an id and time in a tuple.\n",
    "    '''\n",
    "    outList = []\n",
    "    for i in myList:\n",
    "        swim = ref_Dict[i].swim()\n",
    "        outList.append((i,swim[0],swim[1]))\n",
    "    return outList\n",
    "\n",
    "def award_ceremony(myList,ref_Dict,injured=False):\n",
    "    '''\n",
    "    takes a sorted list of results for 8 athletes (ascending sort) and a dictionary with objects\n",
    "\n",
    "    The provided list will be sorted ascending.\n",
    "    The while loop is poping the last element of the list. Thus the 8th place of the race.\n",
    "    Via execution of the add_placement for each object the placement counter will be increased.\n",
    "    '''\n",
    "    myList.sort(key=lambda athlete: athlete[1])\n",
    "    while len(myList)>0:\n",
    "            athlete = myList.pop(-1)\n",
    "            ref_Dict[athlete[0]].add_placement(len(myList)+1,injured=athlete[2])\n",
    "\n",
    "def list_to_string(myList):\n",
    "    '''\n",
    "    to create proper title in plot below\n",
    "    '''\n",
    "    return ' and '.join(myList)"
   ]
  }
 ],
 "metadata": {
  "kernelspec": {
   "display_name": "Python 3.8.12 ('base')",
   "language": "python",
   "name": "python3"
  },
  "language_info": {
   "name": "python",
   "version": "3.8.12"
  },
  "vscode": {
   "interpreter": {
    "hash": "9b8dfdb05e476a0fb0e450349f9b76abd6ac1559882404eeba22108e759c936b"
   }
  }
 },
 "nbformat": 4,
 "nbformat_minor": 2
}