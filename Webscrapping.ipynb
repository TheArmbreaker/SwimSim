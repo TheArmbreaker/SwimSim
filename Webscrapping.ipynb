{
 "cells": [
  {
   "cell_type": "markdown",
   "metadata": {},
   "source": [
    "# Acquiring Data\n",
    "\n",
    "## General thoughts on ethics of webscrapping\n",
    "\n",
    "In this chapter a website called [swimrankings.net](https://www.swimrankings.net/) is scrapped.\n",
    "\n",
    "Web crawlers or scrapping are boon and bane for website operators. On the one hand they need crawlers - especially Google's - to search and classify the websites' content. On the other hand webscrapping leads to increased website traffic and thus increased costs for operators. The robots.txt for swimrankings.net blocks crawlers who are not from Google. And they have scrapping protection in place. The screenshot shows that an empty page was returned, after I accidentaly run the code cell and a lot of requests in short time where send to the websites host.\n",
    "\n",
    "![empty page](pictures/empty_page_swimrankings.png)\n",
    "\n",
    "After a while the side loaded again and asked if I am a robot:\n",
    "\n",
    "![not a robot](pictures/not_a_robot.png)\n",
    "\n",
    "\n",
    "The data is the website's exclusiv content and has to be respected as well as the fact that the website seems to finance itself with Google Ads and showing those ads to real people, not to Beautiful Soup. This is a small insight on ethical issues when performing webscrapping, because such a website might not be financially well provided to deal with traffic from being a constant webscrapping target.\n",
    "\n",
    "For this learning project the running time of the scrapping code is less important than the risk of having no data. Therefore and while having the ethical issues in mind the scrapping code was executed only once with several hours of time running. However the code is implemented in way that much more data (e.g. from seasons or athletes) could have been requested, but the approach \"only take what you need\" was performed.\n",
    "\n",
    "To behave like a human and to achieve the ridicoulous long time running the code is written with time.sleep and randint functions. This leads in worst case (if always the highest randint would be waited) to a time of 4.5 hours. This approach was chosen because in that time a human might has copied the data manually while ignoring the adds. Additionally different userAgents for BeautifulSoup are chosen with random.choice."
   ]
  },
  {
   "cell_type": "code",
   "execution_count": 1,
   "metadata": {},
   "outputs": [],
   "source": [
    "from myfunc import *\n",
    "from bs4 import BeautifulSoup\n",
    "import requests\n",
    "import plotly.express as px\n",
    "import sqlalchemy as sa\n",
    "import lxml\n",
    "import time\n",
    "import random\n",
    "from IPython.display import display, clear_output\n",
    "from pymongo import MongoClient"
   ]
  },
  {
   "cell_type": "code",
   "execution_count": 2,
   "metadata": {},
   "outputs": [],
   "source": [
    "'''\n",
    "Creating own exception classes\n",
    "'''\n",
    "\n",
    "class Error(Exception):\n",
    "    \"\"\" Base class for own exceptions \"\"\"\n",
    "    pass\n",
    "\n",
    "class List_Unequal_Length(Error):\n",
    "    \"\"\" Raised when the lists with swimmer data are unequal in length \"\"\"\n",
    "    def __init__(self,message='Something went wrong. One list is shorter than another.'):\n",
    "        self.message = message\n",
    "        super().__init__(self.message)"
   ]
  },
  {
   "cell_type": "markdown",
   "metadata": {},
   "source": [
    "## Basic Data for Top 100 Athletes\n",
    "\n",
    "### Prepartion\n",
    "\n",
    "[swimrankings.net](https://www.swimrankings.net/) provides an overview of Top 100 currently activeathletes as well as Top 100 alltime athletes - each for male and female athletes.\n",
    "The screenshot shows a part of the websites' menu. Each of the Top100 websites will be scrapped separately. Therefore a list with links is initiated below.\n",
    "\n",
    "![title](pictures/SchwimmerTop100.png)<br>(Source: [swimrankings.net](https://www.swimrankings.net/))"
   ]
  },
  {
   "cell_type": "code",
   "execution_count": 159,
   "metadata": {},
   "outputs": [],
   "source": [
    "linkList = ['https://www.swimrankings.net/index.php?page=athleteSelect&nationId=0&selectPage=TOP100_MEN',\n",
    "'https://www.swimrankings.net/index.php?page=athleteSelect&nationId=0&selectPage=TOP100_WOMEN',\n",
    "'https://www.swimrankings.net/index.php?page=athleteSelect&nationId=0&selectPage=TOP100_MEN_ALL',\n",
    "'https://www.swimrankings.net/index.php?page=athleteSelect&nationId=0&selectPage=TOP100_WOMEN_ALL']"
   ]
  },
  {
   "cell_type": "markdown",
   "metadata": {},
   "source": [
    "### Scrapping Top 100 Lists\n",
    "\n",
    "In the following code block the above mentioned lists is scrapped with BeautifulSoup bs4.\n",
    "Each link to a Top 100 list will be requested from the server only once and the text will be parsed for html code.\n",
    "\n",
    "The h3.tag contains the title of the top100 list and is printed for overview while the code is running. Additionaly it provides details that are the same for all athletes. Therefore the gender and the time is appended for every athlete in the list. When writting about *time* in the context of Top 100 lists the status \"current\" or \"alltime\" are meant. It is expected that alltime refers to athletes who still have an overall best value (like a world record) and are simply not active any more.\n",
    "\n",
    "Following Screenshot shows that each Top 100 lists consists of two tables which can be identified by the html-table-class \"athleteList\". After finding the tables with class \"athleteList\" a function is called to save *name, year of birth, nationality and a website-specific swimmer id* in a list of dicts. As described above, those dicts will also contain the gender and status (currently active or alltime athlete). The swimmer's id is part of a link to his/her specific data and is required for further activities.\n",
    "\n",
    "Each outputList from the function scrap_tables will extend the swimmerList. Thus swimmerList will be a list of 400 swimming athletes from all Top 100 categories.\n",
    "\n",
    "![title](pictures/Top100_lists.png)<br>(Source: [swimrankings.net: Top100 Herren aktuell](https://www.swimrankings.net/index.php?page=athleteSelect&nationId=0&selectPage=TOP100_MEN))"
   ]
  },
  {
   "cell_type": "code",
   "execution_count": null,
   "metadata": {},
   "outputs": [],
   "source": [
    "def get_swimmer_ID(mystring):\n",
    "    return mystring[mystring.find('=',6)+1:]\n",
    "\n",
    "def swimmerDetails(myString):\n",
    "    return swimmerSex(myString), swimmerTime(myString)\n",
    "\n",
    "def swimmerSex(myString):\n",
    "    if 'Men' in myString:\n",
    "        return 'm'\n",
    "    else:\n",
    "        return 'f'\n",
    "\n",
    "def swimmerTime(myString):\n",
    "    if 'alltime' in myString:\n",
    "        return 'alltime'\n",
    "    else:\n",
    "        return 'current' "
   ]
  },
  {
   "cell_type": "code",
   "execution_count": 190,
   "metadata": {},
   "outputs": [
    {
     "name": "stdout",
     "output_type": "stream",
     "text": [
      "Top 100 Men (current)\n",
      "--------------------\n",
      "Top 100 Women (current)\n",
      "--------------------\n",
      "Top 100 Men (alltime)\n",
      "--------------------\n",
      "Top 100 Women (alltime)\n",
      "--------------------\n"
     ]
    },
    {
     "data": {
      "text/plain": [
       "400"
      ]
     },
     "execution_count": 190,
     "metadata": {},
     "output_type": "execute_result"
    }
   ],
   "source": [
    "def scrap_tables(tables,sex,time):\n",
    "    '''\n",
    "    takes a tables extracted with beautifulsoup, a string with gender information and a string with time(current or alltime) information.\n",
    "    returns a List with attributes of an athlete\n",
    "\n",
    "    function is looking for different class_types to get the athlete attributes from the provided html tables\n",
    "    checks if single lists for all attributes are of same length, else raises error: List_Unequal_Length\n",
    "    generates a dictionary for every athlete and appends to outputList\n",
    "    '''\n",
    "    outputList = []\n",
    "    for table in tables:\n",
    "        names = table.find_all('td', class_='name')\n",
    "        year = table.find_all('td', class_='date')\n",
    "        nation = table.find_all('td', class_='code')\n",
    "        id = table.find_all('a')\n",
    "        range_ = len(table.find_all('td'))\n",
    "        if range_ % len(names) != 0 or range_ % len(year) != 0 or range_ % len(nation) != 0:\n",
    "            raise List_Unequal_Length\n",
    "        for i in range(len(names)):\n",
    "            myDict = {}\n",
    "            myDict['name'] = names[i].text\n",
    "            myDict['year_of_birth'] = year[i].text\n",
    "            myDict['nation'] = nation[i].text\n",
    "            myDict['id'] = get_swimmer_ID(id[i]['href'])\n",
    "            myDict['sex'] = sex\n",
    "            myDict['time'] = time\n",
    "            outputList.append(myDict)\n",
    "    \n",
    "    return outputList\n",
    "\n",
    "\n",
    "'''\n",
    "requests the provided link\n",
    "generates an soup object with html.parser\n",
    "extracts h3 information to distiguish gender and time (current or alltime)\n",
    "extracts tables with class attribute 'athleteList' and creates a list of dictionaries from columns via scrap_tables function\n",
    "'''\n",
    "swimmerList = []\n",
    "for link in linkList:\n",
    "    r = requests.get(link)\n",
    "    soup = BeautifulSoup(r.text,'html.parser')\n",
    "    details = soup.find('h3').text\n",
    "    print(details)\n",
    "    print('-'*20)\n",
    "    details_string = swimmerDetails(details)\n",
    "    tables = soup.find_all('table', class_='athleteList')\n",
    "    swimmerList.extend(scrap_tables(tables,details_string[0],details_string[1]))\n",
    "\n",
    "len(swimmerList)\n",
    "            "
   ]
  },
  {
   "cell_type": "markdown",
   "metadata": {},
   "source": [
    "### Store scrapped data\n",
    "\n",
    "In the following a Dataframe will be generated from the swimmerList. It will be saved to a csv-file in order to prevent data lose and/or performing another scrapping. For a quick overview and doublecheck the head of the dataframe is returned.\n",
    "\n",
    "Additionally the data will be stored in a sql database with help of the sql alchemy module. Furthermore the data will be loaded from the sql database into a pandas dataframe. Each of those steps uses functions designed to be used in other context within a .py-file. For the notebooks on *Data Exploration* and *Simulation* this provides the benefit of requesting only needed data via SQL statements rather than loading the whole dataset."
   ]
  },
  {
   "cell_type": "code",
   "execution_count": 1382,
   "metadata": {},
   "outputs": [
    {
     "data": {
      "text/html": [
       "<div>\n",
       "<style scoped>\n",
       "    .dataframe tbody tr th:only-of-type {\n",
       "        vertical-align: middle;\n",
       "    }\n",
       "\n",
       "    .dataframe tbody tr th {\n",
       "        vertical-align: top;\n",
       "    }\n",
       "\n",
       "    .dataframe thead th {\n",
       "        text-align: right;\n",
       "    }\n",
       "</style>\n",
       "<table border=\"1\" class=\"dataframe\">\n",
       "  <thead>\n",
       "    <tr style=\"text-align: right;\">\n",
       "      <th></th>\n",
       "      <th>name</th>\n",
       "      <th>year_of_birth</th>\n",
       "      <th>nation</th>\n",
       "      <th>id</th>\n",
       "      <th>sex</th>\n",
       "      <th>time</th>\n",
       "    </tr>\n",
       "  </thead>\n",
       "  <tbody>\n",
       "    <tr>\n",
       "      <th>0</th>\n",
       "      <td>ANDREW, Michael C</td>\n",
       "      <td>1999</td>\n",
       "      <td>USA</td>\n",
       "      <td>4514190</td>\n",
       "      <td>m</td>\n",
       "      <td>current</td>\n",
       "    </tr>\n",
       "    <tr>\n",
       "      <th>1</th>\n",
       "      <td>ARMSTRONG, Hunter</td>\n",
       "      <td>2001</td>\n",
       "      <td>USA</td>\n",
       "      <td>5361947</td>\n",
       "      <td>m</td>\n",
       "      <td>current</td>\n",
       "    </tr>\n",
       "    <tr>\n",
       "      <th>2</th>\n",
       "      <td>BALANDIN, Dmitriy</td>\n",
       "      <td>1995</td>\n",
       "      <td>KAZ</td>\n",
       "      <td>4826602</td>\n",
       "      <td>m</td>\n",
       "      <td>current</td>\n",
       "    </tr>\n",
       "    <tr>\n",
       "      <th>3</th>\n",
       "      <td>BERNEK, Peter</td>\n",
       "      <td>1992</td>\n",
       "      <td>HUN</td>\n",
       "      <td>4807746</td>\n",
       "      <td>m</td>\n",
       "      <td>current</td>\n",
       "    </tr>\n",
       "    <tr>\n",
       "      <th>4</th>\n",
       "      <td>BORODIN, Ilya</td>\n",
       "      <td>2003</td>\n",
       "      <td>RUS</td>\n",
       "      <td>5299322</td>\n",
       "      <td>m</td>\n",
       "      <td>current</td>\n",
       "    </tr>\n",
       "  </tbody>\n",
       "</table>\n",
       "</div>"
      ],
      "text/plain": [
       "                name year_of_birth nation       id sex     time\n",
       "0  ANDREW, Michael C          1999    USA  4514190   m  current\n",
       "1  ARMSTRONG, Hunter          2001    USA  5361947   m  current\n",
       "2  BALANDIN, Dmitriy          1995    KAZ  4826602   m  current\n",
       "3      BERNEK, Peter          1992    HUN  4807746   m  current\n",
       "4      BORODIN, Ilya          2003    RUS  5299322   m  current"
      ]
     },
     "execution_count": 1382,
     "metadata": {},
     "output_type": "execute_result"
    }
   ],
   "source": [
    "df = pd.DataFrame.from_dict(swimmerList)\n",
    "df.to_csv('backup_swimmerList.csv',index=False)\n",
    "df.head()"
   ]
  },
  {
   "cell_type": "code",
   "execution_count": 456,
   "metadata": {},
   "outputs": [
    {
     "data": {
      "text/plain": [
       "'sql table generated'"
      ]
     },
     "execution_count": 456,
     "metadata": {},
     "output_type": "execute_result"
    }
   ],
   "source": [
    "def generateSQLtable(name,engine):\n",
    "    if not inspector.has_table(name):\n",
    "        df.to_sql(name=name, con=engine)\n",
    "        return 'sql table generated'\n",
    "    else:\n",
    "        return 'sql table already exists'\n",
    "\n",
    "conf = connectDatabase('configPostgresSQL.json')\n",
    "conn_str = 'postgresql://%s:%s@localhost:5432/%s'%(conf[\"user\"], conf[\"passw\"],conf[\"database\"])\n",
    "engine = sa.create_engine(conn_str)\n",
    "inspector = sa.inspect(engine)\n",
    "generateSQLtable('swimmerData',engine)"
   ]
  },
  {
   "cell_type": "code",
   "execution_count": 467,
   "metadata": {},
   "outputs": [],
   "source": [
    "new_df = readSQL('swimmerData',engine)\n",
    "new_df"
   ]
  },
  {
   "cell_type": "code",
   "execution_count": 207,
   "metadata": {},
   "outputs": [
    {
     "name": "stdout",
     "output_type": "stream",
     "text": [
      "The scrapped data provides 400 rows and 6 columns.\n"
     ]
    }
   ],
   "source": [
    "print('The scrapped data provides %d rows and %d columns.'%(new_df.shape[0],new_df.shape[1]))"
   ]
  },
  {
   "cell_type": "markdown",
   "metadata": {},
   "source": [
    "## Webscrapping Athlete's Performance Data\n",
    "\n",
    "### Preparation\n",
    "\n",
    "For each of the currently active athletes in above Top 100 lists the specific performance in 2020 and 2021 is scrapped.\n",
    "\n",
    "[swimrankings.net](https://www.swimrankings.net) provides data for all results in a specific year for each athlete. The athlete is identified by the id which was scrapped from the Top 100 lists. To get those ids an pandas dataframe is created with an sql query. At the moment a dataframe is created and the id-column transfered to a list. This could be changed to a query selecting only the ids.\n",
    "\n",
    "For each athlete the specific year data is provided in several columns with the event type as title. While the screenshot shows german translations the code receives english data when requested from the url. Each url is build with an athleteID= and result= part. Thus the id list can be used to request an athlete specific performance list. The screenshot shows red highlighted parts of the website.\n",
    "\n",
    "![title](pictures/athlete_performance.png)<br>(Source: [swimrankings.net Athlete: Caeleb Dressel](https://www.swimrankings.net/index.php?page=athleteDetail&athleteId=4772537&result=2020))\n",
    "\n",
    "\n",
    "<br>\n",
    "\n",
    "**Scrapping functions**\n",
    "\n",
    "The next code block presents the functions created for the scrapping and to keep an overview of steps.\n",
    "Each function has a doc string with further information.\n",
    "\n",
    "Before reading the functions, please read the markdown cell below. It provides a simple background on swimming competitions."
   ]
  },
  {
   "cell_type": "code",
   "execution_count": 1195,
   "metadata": {},
   "outputs": [],
   "source": [
    "def access_swim_performance_website(link):\n",
    "    '''\n",
    "    Takes a link to a website.\n",
    "    Returns a BeatifulSoup Object\n",
    "    If request returns a ReadTimeout Error a note will be printed and the return is None\n",
    "    '''\n",
    "    try:\n",
    "        myheaders = [{'User-Agent': 'Mozilla/5.0'},{'User-Agent': 'Chrome/51.0.2704.64'},{'User-Agent': 'Safari/601.3.9'}]\n",
    "        get_header = random.choice(myheaders)\n",
    "        r = requests.get(link, headers=get_header, timeout=(3))\n",
    "        return BeautifulSoup(r.content,'lxml')\n",
    "    except requests.ReadTimeout:\n",
    "        print('read timeout at')\n",
    "        print(link)\n",
    "        print('-'*20)\n",
    "        pass\n",
    "\n",
    "def scrap_performance(tables,id='missing',season='0000'):\n",
    "    '''\n",
    "    Takes tables from beautifulSoup find_all function, an athlete id and a season variable.\n",
    "    Returns a dictionary which is successivly generated via function get_dict.\n",
    "    \n",
    "    From Screenshot above one can see that the tables have white and grey rows. Those are identified by the classes in tr tags.\n",
    "    The class event in th tags returns the event like \"50m Freestyle\".\n",
    "\n",
    "    '''\n",
    "    myDict = {}\n",
    "    for table in tables:\n",
    "        meets = table.find_all('tr',attrs={'class':['athleteResult0','athleteResult1']})\n",
    "        mystring = table.find('th',class_='event').text\n",
    "        myDict = myDict | get_dict(id,mystring,meets,season)\n",
    "    return myDict\n",
    "\n",
    "def get_dict(id,mystring,meets,season):\n",
    "    '''\n",
    "    Takes the athlete id, the string with the event, the array with performance data from rows and the season variable.\n",
    "    Returns a dictionary with performance data in a list of dicts generated from the create_event function.\n",
    "\n",
    "    The variables id, mystring and season are passed through to the create_event function.\n",
    "\n",
    "    Meets is an BeautifulSoup object with all tr tags for classes \"athleteResult0\" and \"athleteResult1\".\n",
    "    The contents will be separated into text snippets and stored to a list of lists where each inner list represents a scrapped row.\n",
    "    '''\n",
    "    myList = []\n",
    "    for meet in meets:\n",
    "        myList_inner = []\n",
    "        meet_data = meet.contents\n",
    "        for j in meet_data:\n",
    "            myList_inner.append(j.text)\n",
    "        myList.append(myList_inner)\n",
    "    return create_event(id,mystring,myList,season)\n",
    "\n",
    "def create_event(id,mystring,rows,season):\n",
    "    '''\n",
    "    Takes the id, the event as mystring, the list of rows and season.\n",
    "    Returns a dictionary with keys: id, season, event (eg. 50m Freestyle)\n",
    "\n",
    "    Creates the actual dictionary - not just the event! Function name is a bit missleading.\n",
    "    The id and seasons keys get overwritten by the merge operator in scrap_performance in every call of get_dict.\n",
    "    Here is good chance to improve the code, when time is left before deadline.\n",
    "\n",
    "    Behind key from event string a list of performances is generated via create_event_list function.\n",
    "\n",
    "    '''\n",
    "    myDict = {}\n",
    "    myDict['id'] = id\n",
    "    myDict['season'] = season\n",
    "    myDict[mystring] = create_event_list(rows)\n",
    "    return myDict\n",
    "\n",
    "def create_event_list(rows):\n",
    "    '''\n",
    "    Takes the list of lists where each list represents a row from the scrapped data.\n",
    "    Returns a dictionary for each row from the scrapped data.\n",
    "    '''\n",
    "    myList = []\n",
    "    for row in rows:\n",
    "        myDict = {}\n",
    "        column_names = ['Date','Place','Course','Time','Points']\n",
    "        while len(column_names)>0:\n",
    "            myDict[column_names.pop(0)] = str(row.pop(0)).replace('\\xa0',' ')\n",
    "        myList.append(myDict)\n",
    "    return myList"
   ]
  },
  {
   "cell_type": "markdown",
   "metadata": {},
   "source": [
    "### Scrapping\n",
    "\n",
    "Below code block is the actual scrapping code which calls above presented functions.\n",
    "\n",
    "**Outer For-Loop:** The outer for-loop is iterating through the list of wanted seasons (years).\n",
    "\n",
    "**Inner For-Loop:** The inner loop iterates over a list of athlete ids which is retrieved from previous introduced sql database.\n",
    "Each year an id will be inserted in a link to [swimrankings.net](https://www.swimrankings.net)\n",
    "\n",
    "The link is passed into the function access_swim_performance_website which returns a beautifulsoup object or None in case of an request timeout.\n",
    "\n",
    "If the request was successful the object will be searched for table classes *athleteResult* and the *width=350 attribute*.\n",
    "Those tables will be used to call the function scrap_performance. Results are appended to the swimmerPerfList. The results are dictionaries with following structure.\n",
    "\n",
    "**Dict Structure**\n",
    "Each element of swimPerfList is a dictionary with the athelete id and season. This information is followed by different amount of keys for different swim events. For each key a list of dictionaries is generated. Those dictionaries hold the performance data for the event type.\n",
    "\n",
    "In this work the term event is used for the stroke an athlete swims. There are Freestyle, Breaststroke, Backstroke and Butterfly as well as mixed races (medleys). Furthermore each event is linked to a specific course (pool distance).\n",
    "Within the list of dicts for each event the dictionaries hold the date of that performance, the place or location where the race took place, the course (pool distance) that was swam and the points.\n",
    "\n",
    "The course describes the length of the pool. There are different distances like 25 or 50 meter. Those distances are important to consider when analysing the time because they describe a turning point where the athlete has the chance to push him- or herself away and gain some speed with a few dolphin kicks. A first hypothesis can be derived from this discription. The times for 100m Freestyle on 25m course shall be smaller than on 50m courses.\n",
    "The points are some value from the Fina federation which adminsters international water sport competitions.\n",
    "\n",
    "![title](pictures/fina_points.png)<br>(Source: [swimrankings.net](https://www.swimrankings.net/index.php?page=athleteDetail&athleteId=4029113&result=2020))\n",
    "\n",
    "<br>\n",
    "Example for Dict Structure with an athlete id for season 2020 and only once swimming 100m Freestyle:\n",
    "\n",
    "{<br>\n",
    "    &nbsp;&nbsp;&nbsp;&nbsp;'id':'123456',<br>\n",
    "    &nbsp;&nbsp;&nbsp;&nbsp;'season':'2020',<br>\n",
    "    &nbsp;&nbsp;&nbsp;&nbsp;'100m Freestyle':[{<br>\n",
    "        &nbsp;&nbsp;&nbsp;&nbsp;&nbsp;&nbsp;&nbsp;&nbsp;'Date': 'some date',<br>\n",
    "        &nbsp;&nbsp;&nbsp;&nbsp;&nbsp;&nbsp;&nbsp;&nbsp;'Place': 'somewhere',<br>\n",
    "        &nbsp;&nbsp;&nbsp;&nbsp;&nbsp;&nbsp;&nbsp;&nbsp;'Course': 'pool distance',<br>\n",
    "        &nbsp;&nbsp;&nbsp;&nbsp;&nbsp;&nbsp;&nbsp;&nbsp;'Time': 'some value',<br>\n",
    "        &nbsp;&nbsp;&nbsp;&nbsp;&nbsp;&nbsp;&nbsp;&nbsp;'Points': 'some value'<br>\n",
    "    &nbsp;&nbsp;&nbsp;&nbsp;}]<br>\n",
    "}"
   ]
  },
  {
   "cell_type": "code",
   "execution_count": 490,
   "metadata": {},
   "outputs": [],
   "source": [
    "new_df = pd.read_sql_query('SELECT * FROM \"swimmerData\" WHERE time=\\'current\\'',engine).drop(['index'],axis=1)\n",
    "idList = new_df['id'].to_list()\n",
    "List_Failure = []\n",
    "swimmerPerfList = []\n",
    "years = [2020,2021]\n",
    "total_counter = 0\n",
    "\n",
    "for year in years:\n",
    "    year_counter = 0\n",
    "    for id in idList:\n",
    "        link = f'https://www.swimrankings.net/index.php?page=athleteDetail&athleteId={id}&result={year}'\n",
    "        soup = access_swim_performance_website(link)\n",
    "        if soup == None:\n",
    "            List_Failure.append(link)\n",
    "            continue\n",
    "        tables = soup.find_all('table',class_='athleteResult', width='350')\n",
    "        swimmerPerfList.append(scrap_performance(tables,id,year))\n",
    "        counter += 1\n",
    "        year_counter += 1\n",
    "        total_counter += 1\n",
    "        clear_output(wait=True)\n",
    "        if counter < 50:\n",
    "            display('Iteration:',total_counter,'year: ',year,'year_counter:',year_counter)\n",
    "            time.sleep(random.randint(25,45))\n",
    "        else:\n",
    "            display('Iteration:',total_counter,'year: ',year,'year_counter:',year_counter)\n",
    "            time.sleep(random.randint(900,1800))\n",
    "            counter = 0\n",
    "\n",
    "print('Data for %d swimmers was scrapped'%len(swimmerPerfList))"
   ]
  },
  {
   "cell_type": "markdown",
   "metadata": {},
   "source": [
    "### Failed URL request\n",
    "\n",
    "Unfortunately the print statement from the webscrapping code block got lost when cells where joined. It was 399, thus one athlete's information was not scrapped. However, below a list with unsuccesfully requested links is returned. This link was evaluated manually and afterwards appended to to the swimmerPerfList with a function call. Additionally the last element of swimPerfList was returned for double check. It shows that the missed id was successfully appended. Additionally it shows an example for above described data structure."
   ]
  },
  {
   "cell_type": "code",
   "execution_count": 1198,
   "metadata": {},
   "outputs": [
    {
     "data": {
      "text/plain": [
       "['https://www.swimrankings.net/index.php?page=athleteDetail&athleteId=4481439&result=2020']"
      ]
     },
     "execution_count": 1198,
     "metadata": {},
     "output_type": "execute_result"
    }
   ],
   "source": [
    "List_Failure"
   ]
  },
  {
   "cell_type": "code",
   "execution_count": 1203,
   "metadata": {},
   "outputs": [],
   "source": [
    "swimmerPerfList.append(scrap_performance(access_swim_performance_website(List_Failure[0]).find_all('table',class_='athleteResult', width='350'),'4481439',2020))"
   ]
  },
  {
   "cell_type": "code",
   "execution_count": 1378,
   "metadata": {},
   "outputs": [
    {
     "data": {
      "text/plain": [
       "{'id': 4481439,\n",
       " 'season': 2020,\n",
       " '100m Freestyle': [{'Date': '12 Dec 2019',\n",
       "   'Place': 'Tampere',\n",
       "   'Course': '25m',\n",
       "   'Time': '51.58',\n",
       "   'Points': '661'}],\n",
       " '50m Breaststroke': [{'Date': '4 Dec 2019',\n",
       "   'Place': 'Glasgow (GBR)',\n",
       "   'Course': '25m',\n",
       "   'Time': '27.61',\n",
       "   'Points': '764'},\n",
       "  {'Date': '13 Jun 2020',\n",
       "   'Place': 'Tampere',\n",
       "   'Course': '50m',\n",
       "   'Time': '28.96',\n",
       "   'Points': '719'}],\n",
       " '100m Breaststroke': [{'Date': '5 Oct 2019',\n",
       "   'Place': 'Pori',\n",
       "   'Course': '25m',\n",
       "   'Time': '1:00.83',\n",
       "   'Points': '752'},\n",
       "  {'Date': '6 Dec 2019',\n",
       "   'Place': 'Glasgow (GBR)',\n",
       "   'Course': '25m',\n",
       "   'Time': '59.74',\n",
       "   'Points': '794'},\n",
       "  {'Date': '13 Dec 2019',\n",
       "   'Place': 'Tampere',\n",
       "   'Course': '25m',\n",
       "   'Time': '58.09',\n",
       "   'Points': '864'},\n",
       "  {'Date': '13 Dec 2019',\n",
       "   'Place': 'Tampere',\n",
       "   'Course': '25m',\n",
       "   'Time': '59.46',\n",
       "   'Points': '806'},\n",
       "  {'Date': '13 Jun 2020',\n",
       "   'Place': 'Tampere',\n",
       "   'Course': '50m',\n",
       "   'Time': '1:01.51',\n",
       "   'Points': '790'},\n",
       "  {'Date': '15 Nov 2020',\n",
       "   'Place': 'Oulu',\n",
       "   'Course': '50m',\n",
       "   'Time': '1:01.18',\n",
       "   'Points': '803'},\n",
       "  {'Date': '15 Nov 2020',\n",
       "   'Place': 'Oulu',\n",
       "   'Course': '50m',\n",
       "   'Time': '1:01.39',\n",
       "   'Points': '795'}],\n",
       " '200m Breaststroke': [{'Date': '5 Dec 2019',\n",
       "   'Place': 'Glasgow (GBR)',\n",
       "   'Course': '25m',\n",
       "   'Time': '2:06.46',\n",
       "   'Points': '857'},\n",
       "  {'Date': '14 Dec 2019',\n",
       "   'Place': 'Tampere',\n",
       "   'Course': '25m',\n",
       "   'Time': '2:09.33',\n",
       "   'Points': '802'},\n",
       "  {'Date': '14 Dec 2019',\n",
       "   'Place': 'Tampere',\n",
       "   'Course': '25m',\n",
       "   'Time': '2:04.63',\n",
       "   'Points': '896'},\n",
       "  {'Date': '14 Nov 2020',\n",
       "   'Place': 'Oulu',\n",
       "   'Course': '50m',\n",
       "   'Time': '2:14.81',\n",
       "   'Points': '818'},\n",
       "  {'Date': '14 Nov 2020',\n",
       "   'Place': 'Oulu',\n",
       "   'Course': '50m',\n",
       "   'Time': '2:11.81',\n",
       "   'Points': '876'}],\n",
       " '50m Butterfly': [{'Date': '5 Oct 2019',\n",
       "   'Place': 'Pori',\n",
       "   'Course': '25m',\n",
       "   'Time': '25.97',\n",
       "   'Points': '587'}],\n",
       " '_id': ObjectId('62f297566ae80f6f52b1e2b1')}"
      ]
     },
     "execution_count": 1378,
     "metadata": {},
     "output_type": "execute_result"
    }
   ],
   "source": [
    "swimmerPerfList[-1]"
   ]
  },
  {
   "cell_type": "markdown",
   "metadata": {},
   "source": [
    "### Backup Scrapped Data\n",
    "\n",
    "The swimPerfList object is stored in a json-file backup. This provides the oppertunity to work with the data without the need of a second scrapping run in case of data lose. The code is commented out to prevent changes to the backup."
   ]
  },
  {
   "cell_type": "code",
   "execution_count": 1206,
   "metadata": {},
   "outputs": [],
   "source": [
    "# with open('backup_scrappedData_dummyFileName.json','w') as f:\n",
    "#     json.dump(swimmerPerfList,f)"
   ]
  },
  {
   "cell_type": "code",
   "execution_count": 11,
   "metadata": {},
   "outputs": [],
   "source": [
    "with open('backup_scrappedData.json','r') as f:\n",
    "    swimmerPerfList = json.load(f)"
   ]
  },
  {
   "cell_type": "markdown",
   "metadata": {},
   "source": [
    "### Empty Dicts in Scrapped Data\n",
    "\n",
    "The scrapped data contains empty dictionaries, because for some athletes data for either 2020 or 2021 is not available. For e.g. the below screenshot shows an exceptional example where the years from 2013 until 2019 are missing. The athlete somehow became active after eight years or the seasons where not recorded.\n",
    "\n",
    "Before such data is loaded into the mongoDB database those empty dictionaries will be removed by following code block. The print statement beneath shows that 365 filled dictionaries exists. This means that from expected 400 entries (200 athletes * 2 seasons) there is no data for 35 athletes in at least one season.\n",
    "\n",
    "\n",
    "![title](pictures/missingDataExample.png)<br>(Source: [swimrankings.net Athlete: Brent Hayden](https://www.swimrankings.net/index.php?page=athleteDetail&athleteId=4029113&result=2020))"
   ]
  },
  {
   "cell_type": "code",
   "execution_count": 12,
   "metadata": {},
   "outputs": [
    {
     "name": "stdout",
     "output_type": "stream",
     "text": [
      "New length of swimmerPerfList: 365\n"
     ]
    }
   ],
   "source": [
    "\"\"\" \n",
    "set trigger to True to clear swimPerfList from empty dictionaries. Else print a statement.\n",
    "\n",
    "takes the swimPerList which includes empty dictionaries.\n",
    "iterates over all dictionaries and counts += 1, when dictionary is empty the expression bool(dict)==False is True.\n",
    "\n",
    "for the amount of counted empty dictionaries the while loop is running.\n",
    "it iterates over the length of the list and deletes empty dictionaries.\n",
    "\n",
    "There might be faster way using numpy. However, it provides a great possibility to show understanding of for and while loops.\n",
    "\"\"\"\n",
    "trigger = False\n",
    "print('Length of swimmerPerfList before removal of empty dictionaries:',len(swimmerPerfList))\n",
    "\n",
    "if trigger:\n",
    "    count = 0\n",
    "    for i in swimmerPerfList:\n",
    "        if bool(i) == False:\n",
    "            count += 1\n",
    "\n",
    "    while count > 0:\n",
    "        for i in range(len(swimmerPerfList)):\n",
    "            if bool(swimmerPerfList[i]) == False:\n",
    "                del swimmerPerfList[i]\n",
    "                count -= 1\n",
    "                break\n",
    "    print('New length of swimmerPerfList:',len(swimmerPerfList))\n",
    "else:\n",
    "    swimmerPerfList = [i for i in swimmerPerfList if i]\n",
    "    print('Length of swimmerPerfList after removal of empty dictionaries:',len(swimmerPerfList))"
   ]
  },
  {
   "cell_type": "code",
   "execution_count": null,
   "metadata": {},
   "outputs": [],
   "source": [
    "\"\"\" \n",
    "Following code is easier than above.\n",
    "Function 1 works only for python 2.7\n",
    "Function 2 works for values, but not for Dictionary Objects.\n",
    "\"\"\"\n",
    "# Function 1\n",
    "# test = list(filter(None,test))\n",
    "\n",
    "# Function 2\n",
    "# empty_dict = {}\n",
    "# while empty_dict in test:\n",
    "#     list.remove(empty_dict)\n",
    "# print('New length of swimmerPerfList:',len(test))"
   ]
  },
  {
   "cell_type": "markdown",
   "metadata": {},
   "source": [
    "## Insert Data into MongoDB database\n",
    "\n",
    "In this part the scrapped performance data is stored in a MongoDB. In comparision to above used sql database a mongoDB database is more adequate for the different amounts of events an athlete swims. For example not everybody is swimming 100m Freestyle, some athletes swim different styles like Breaststroke or Butterfly. Other Athletes swim longer or shorter distances. Even if the events are the same not every athlete is competing the same amount of times. Thus a table based database would have a lot of empty cells while taking up a lot of space and a mongoDB database should be favoured for such unstructered data.\n",
    "\n",
    "1) After mongoDB was started the connection is setup via Mongoclient. If there is no Database *swimmerData* with an collection *performance* it will be created.\n",
    "2) The function insert_many inserts the whole swimmerPerfList from above. However, the insert_one function could have been used in the webscrapping code to skip the past steps. As described earlier I prefered a way to get backup copy in json-format. Especially because this is my first time working with mongoDB.\n",
    "3) Check if length of collection is the same as the length of swimmerPerfList.\n",
    "4) Check if only scrapped information for 2020 and 2021 is included or something went wrong.\n"
   ]
  },
  {
   "cell_type": "code",
   "execution_count": 1607,
   "metadata": {},
   "outputs": [
    {
     "name": "stdout",
     "output_type": "stream",
     "text": [
      "\u001b[34m==>\u001b[0m \u001b[1mSuccessfully started `mongodb-community` (label: homebrew.mxcl.mongodb-commu\u001b[0m\n"
     ]
    }
   ],
   "source": [
    "!brew services start mongodb-community@5.0"
   ]
  },
  {
   "cell_type": "code",
   "execution_count": 14,
   "metadata": {},
   "outputs": [
    {
     "name": "stdout",
     "output_type": "stream",
     "text": [
      "Before: ['admin', 'config', 'fooddata', 'local']\n",
      "New Database 'swimmerData' generated\n",
      "After: ['admin', 'config', 'fooddata', 'local', 'swimmerData']\n"
     ]
    }
   ],
   "source": [
    "'''\n",
    "Code to connect to mongoDB via MongoClient.\n",
    "If there is no database called swimmerData it will be created.\n",
    "The Collection is called performance.\n",
    "'''\n",
    "client = MongoClient()\n",
    "client = MongoClient('mongodb://localhost:27017/')\n",
    "print('Before:',client.list_database_names())\n",
    "mydb = client['swimmerData']\n",
    "mycol = mydb['performance']\n",
    "if 'swimmerData' not in client.list_database_names():\n",
    "    mycol.insert_many(swimmerPerfList)\n",
    "    print('New Database \\'swimmerData\\' generated')\n",
    "print('After:',client.list_database_names())"
   ]
  },
  {
   "cell_type": "code",
   "execution_count": 13,
   "metadata": {},
   "outputs": [
    {
     "name": "stdout",
     "output_type": "stream",
     "text": [
      "['admin', 'config', 'fooddata', 'local']\n"
     ]
    }
   ],
   "source": [
    "\"\"\" \n",
    "Code to delete the mongoDB database. Used for testing purposes.\n",
    "\"\"\"\n",
    "# client.drop_database('swimmerData')\n",
    "# print(client.list_database_names())"
   ]
  },
  {
   "cell_type": "code",
   "execution_count": 15,
   "metadata": {},
   "outputs": [
    {
     "name": "stdout",
     "output_type": "stream",
     "text": [
      "Collection has 365 documents.\n"
     ]
    }
   ],
   "source": [
    "'''\n",
    "Code to verify that all documents are stored.\n",
    "'''\n",
    "mycoll = mydb.get_collection('performance')\n",
    "print('Collection has %d documents.'%mycoll.estimated_document_count())"
   ]
  },
  {
   "cell_type": "code",
   "execution_count": 10,
   "metadata": {},
   "outputs": [
    {
     "data": {
      "text/plain": [
       "[2020, 2021]"
      ]
     },
     "execution_count": 10,
     "metadata": {},
     "output_type": "execute_result"
    }
   ],
   "source": [
    "mycoll.distinct('season')"
   ]
  },
  {
   "cell_type": "code",
   "execution_count": null,
   "metadata": {},
   "outputs": [
    {
     "name": "stdout",
     "output_type": "stream",
     "text": [
      "\u001b[33mWarning:\u001b[0m Service `mongodb-community` is not started.\n"
     ]
    }
   ],
   "source": [
    "!brew services stop mongodb-community@5.0"
   ]
  },
  {
   "cell_type": "markdown",
   "metadata": {},
   "source": [
    "## Additional learnings\n",
    "\n",
    "Below code block shows a snippet that was used in first attempts of coding the webscrapper for performance data. One can see that instead of lxml the 'html.parser' was used. Somehow this parser returned code not as expected from examination in Google Chrome. Switching to lxml provided much cleaner code snippets for scrapping.\n",
    "\n",
    "* html.parser worked for the top100 lists because the code was very structured.\n",
    "* lxml parser worked better for the variaty of different event lists with each row having a different class.\n",
    "\n",
    "The reason for this still has to be researched. First idea is that html.parser did not favore the nested table structures for unequal amounts of tables on each athletes side. The screenshot below shows the unusal table alignment for event results. This is different for every athlete, because it depends on the amount of data.\n",
    "\n",
    "![example table alignment](pictures/table_alignment_perfData.png)\n",
    "\n",
    "(Source: [swimrankings.net](https://www.swimrankings.net/index.php?page=athleteDetail&athleteId=4466830&result=2021))"
   ]
  },
  {
   "cell_type": "code",
   "execution_count": 525,
   "metadata": {},
   "outputs": [],
   "source": [
    "headers = {\n",
    "    'user-Agent': 'myPC'\n",
    "}\n",
    "link = 'https://www.swimrankings.net/index.php?page=athleteDetail&athleteId=4772537&result=2021'\n",
    "r = requests.get(link, headers=headers)\n",
    "soup = BeautifulSoup(r.text,'html.parser')"
   ]
  }
 ],
 "metadata": {
  "kernelspec": {
   "display_name": "Python 3.9.12 ('condatascience')",
   "language": "python",
   "name": "python3"
  },
  "language_info": {
   "codemirror_mode": {
    "name": "ipython",
    "version": 3
   },
   "file_extension": ".py",
   "mimetype": "text/x-python",
   "name": "python",
   "nbconvert_exporter": "python",
   "pygments_lexer": "ipython3",
   "version": "3.9.12"
  },
  "orig_nbformat": 4,
  "vscode": {
   "interpreter": {
    "hash": "fd0a90840973ec53c960faac2ec5a80b0cd969d8e1e064cbc11596d09821ee2d"
   }
  }
 },
 "nbformat": 4,
 "nbformat_minor": 2
}
